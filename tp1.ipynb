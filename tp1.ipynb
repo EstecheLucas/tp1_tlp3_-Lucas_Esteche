{
 "cells": [
  {
   "cell_type": "markdown",
   "metadata": {},
   "source": [
    "# Criterios de evaluación.\n",
    "\n",
    "* Se deben utilizar nombres de variables descriptivos y claros (Utilizar la nomeclatura correspondiente para los nombres de variables).\n",
    "* Comentarios claros y concisos que expliquen el propósito de cada sección del código.\n",
    "* Entrega en tiempo y forma.\n",
    "* Todo el código desarrollado debe ser subido a un repositorio en GitHub (el nombre del repositorio de seguir la siguiente estructura: tp1_tlp3_nombre_apellido).\n",
    "\n",
    "\n",
    "**Aclaración: Para resolver las actividades se debe incertar casillas de codigo entre cada actividad del cuaderno de Jupyter**"
   ]
  },
  {
   "cell_type": "markdown",
   "metadata": {},
   "source": [
    "### 1. **Hola Mundo y Variables**\n",
    "\n",
    "   - **Actividad 1.1**: Deben escribir un programa que imprima \"¡Hola, Mundo!\" en la consola.\n",
    "   - **Actividad 1.2**: Deben crear una variable llamada `nombre` y hacer que el programa imprima un saludo personalizado: `Hola, <nombre>!`"
   ]
  },
  {
   "cell_type": "markdown",
   "metadata": {},
   "source": [
    "**Actvidad 1.1:**\n"
   ]
  },
  {
   "cell_type": "code",
   "execution_count": null,
   "metadata": {},
   "outputs": [
    {
     "name": "stdout",
     "output_type": "stream",
     "text": [
      "Hola Mundo!\n"
     ]
    }
   ],
   "source": [
    "# print se usa para mostrar/imprimir algo en la consola\n",
    "print(\"Hola Mundo!\")"
   ]
  },
  {
   "cell_type": "markdown",
   "metadata": {},
   "source": [
    "**Actividad 1.2**\n"
   ]
  },
  {
   "cell_type": "code",
   "execution_count": null,
   "metadata": {},
   "outputs": [
    {
     "name": "stdout",
     "output_type": "stream",
     "text": [
      "Hola, mi nombre es pela\n"
     ]
    }
   ],
   "source": [
    "nombre = input(\"Ingrese su nombre: \") # input se usa para pedir datos al usuario, en este caso el nombre\n",
    "print(\"Hola, mi nombre es\", nombre) "
   ]
  },
  {
   "cell_type": "markdown",
   "metadata": {},
   "source": [
    "### 2. **Operaciones Matemáticas Básicas**\n",
    "\n",
    "   - **Actividad 1.1**: Crear un programa que pida al usuario dos números y realice las cuatro operaciones matemáticas básicas (suma, resta, multiplicación y división), imprimiendo los resultados.\n",
    "   - **Actividad 1.2**: Hacer que el programa calcule el promedio de los dos números."
   ]
  },
  {
   "cell_type": "markdown",
   "metadata": {},
   "source": [
    "**Actividad 1.1**"
   ]
  },
  {
   "cell_type": "code",
   "execution_count": 14,
   "metadata": {},
   "outputs": [
    {
     "name": "stdout",
     "output_type": "stream",
     "text": [
      "El resultado de la suma es: 2\n",
      "El resultado de la resta es: 2\n",
      "El resultado de la multiplicaión es: 0\n",
      "El resultado de la división es: Error: No se puede dividir por cero\n"
     ]
    }
   ],
   "source": [
    "num1 = int(input(\"Ingrese un número: \"))  # pedimos el primer número al usuario con el input y convertimos a entero con int\n",
    "num2 = int(input(\"Ingrese el siguiente número: \"))  # pedimos el segunfo número al usuario con el input y convertimos a entero con int\n",
    "\n",
    "suma = num1 + num2  # Realizamos la suma\n",
    "print(\"El resultado de la suma es:\", suma)  # Imprimimos el resultado\n",
    "\n",
    "resta = num1 - num2 # realizamos la resta\n",
    "print(\"El resultado de la resta es:\", resta) # Imprimimos el resultado\n",
    "\n",
    "multiplicacion = num1 * num2 # realizamos la multiplicación\n",
    "print(\"El resultado de la multiplicaión es:\", multiplicacion)#imprimimos el resultado\n",
    "\n",
    "division = num1 / num2 if num2 != 0 else \"Error: No se puede dividir por cero\" # realizamos la division, ponemos una condicion\n",
    "print(\"El resultado de la división es:\", division)"
   ]
  },
  {
   "cell_type": "markdown",
   "metadata": {},
   "source": [
    "**Actividad 1.2**\n"
   ]
  },
  {
   "cell_type": "code",
   "execution_count": 16,
   "metadata": {},
   "outputs": [
    {
     "name": "stdout",
     "output_type": "stream",
     "text": [
      "El promedio de 3 y 2 es: 2.5\n"
     ]
    }
   ],
   "source": [
    "num1 = int(input(\"Ingrese un número: \"))  # pedimos el primer número al usuario con el input y convertimos a entero con int\n",
    "num2 = int(input(\"Ingrese el siguiente número: \"))  # pedimos el segunfo número al usuario con el input y convertimos a entero con int\n",
    "\n",
    "# Calculamos el promedio de dos números\n",
    "promedio = (num1 + num2) / 2\n",
    "\n",
    "# Imprimimos el resultado\n",
    "print(f\"El promedio de {num1} y {num2} es: {promedio}\")"
   ]
  },
  {
   "cell_type": "markdown",
   "metadata": {},
   "source": [
    "### 3. **Condicionales (if-else)**\n",
    "\n",
    "   - **Actividad 1.1**: Escribir un programa que pida al usuario su edad y le diga si es mayor de edad (18 años o más).\n",
    "   - **Actividad 1.2**: Agregar un mensaje diferente para diferentes rangos de edad, como por ejemplo, si es un niño, adolescente o adulto."
   ]
  },
  {
   "cell_type": "markdown",
   "metadata": {},
   "source": [
    "**Actividad 1.1**"
   ]
  },
  {
   "cell_type": "code",
   "execution_count": null,
   "metadata": {},
   "outputs": [],
   "source": [
    "edad_usuario = int(input(\"Ingrese su edad: \"))  # pedimos la edad al usuario con el input y convertimos a entero con int\n",
    "\n",
    "#Hacemos la condicion donde si edad_usuario es mayor o igual a 18 es mayor de edad sino es menor\n",
    "if edad_usuario >= 18:\n",
    "    print(\"Es mayor de edad\")\n",
    "else:\n",
    "    print(\"Es menor de edad\")"
   ]
  },
  {
   "cell_type": "markdown",
   "metadata": {},
   "source": [
    "**Actividad 1.2**"
   ]
  },
  {
   "cell_type": "code",
   "execution_count": 4,
   "metadata": {},
   "outputs": [
    {
     "name": "stdout",
     "output_type": "stream",
     "text": [
      "eres un niño\n"
     ]
    }
   ],
   "source": [
    "edad_usuario = int(input(\"Ingrese su edad: \"))  # pedimos la edad al usuario con el input y convertimos a entero con int\n",
    "\n",
    "# Hacemos la cindicion donde si edad_usuario esta entre 0 y 12 es un niño, 18 y 60 adulto, de 60 en adelante vejez\n",
    "if edad_usuario >= 0 and edad_usuario <= 12: # si edad_usuario esta entre 0 y 12 es un niño\n",
    "    print(\"eres un niño\")\n",
    "\n",
    "elif edad_usuario >= 18 and edad_usuario <= 60: # si edad_usuario esta entre 18 y 60 es un adulto\n",
    "     print(\"Eres un adulto\")\n",
    "\n",
    "elif edad_usuario >= 60 and edad_usuario <= 100: # si edad_usuario esta entre 60 y 100 estás en la vejez\n",
    "     print(\"estás en la vejez\")\n",
    "\n"
   ]
  },
  {
   "cell_type": "markdown",
   "metadata": {},
   "source": [
    "### 4. **Ciclos (while, for)**\n",
    "\n",
    "   - **Actividad 1.1**: Escribir un programa que imprima los números del 1 al 10 usando un bucle `for`.\n",
    "   - **Actividad 1.2**: Usar un bucle `while` para imprimir los números del 1 al 10, e imprimir solo aquellos números que sean divisibles por 2."
   ]
  },
  {
   "cell_type": "markdown",
   "metadata": {},
   "source": [
    "**Actividad 1.1**"
   ]
  },
  {
   "cell_type": "code",
   "execution_count": 7,
   "metadata": {},
   "outputs": [
    {
     "name": "stdout",
     "output_type": "stream",
     "text": [
      "1\n",
      "2\n",
      "3\n",
      "4\n",
      "5\n",
      "6\n",
      "7\n",
      "8\n",
      "9\n",
      "10\n",
      "Fin del bucle\n"
     ]
    }
   ],
   "source": [
    "for numero in range(1, 11):  # utilizamos la  funciónn range para el inicio y fin de la secuencia de números que queremos imprimir\n",
    "    print(numero)\n",
    "\n",
    "print(\"Fin del bucle\")\n"
   ]
  },
  {
   "cell_type": "markdown",
   "metadata": {},
   "source": [
    "**Actividad 1.2**\n"
   ]
  },
  {
   "cell_type": "code",
   "execution_count": 16,
   "metadata": {},
   "outputs": [
    {
     "name": "stdout",
     "output_type": "stream",
     "text": [
      "2\n",
      "4\n",
      "6\n",
      "8\n",
      "10\n"
     ]
    }
   ],
   "source": [
    "num = 1  # Inicializamos la variable\n",
    "\n",
    "while num <= 10:  # hacer que  num sea menor o igual a 10\n",
    "    if num % 2 == 0:  # Verificamos si es divisible por 2\n",
    "        print(num)\n",
    "    num += 1 # Aumentamos num en 1 para evitar un bucle infinito\n"
   ]
  },
  {
   "cell_type": "markdown",
   "metadata": {},
   "source": [
    "### 5. **Listas y Bucles**\n",
    "\n",
    "   - **Actividad 1.1**: Crear una lista con 5 números y escribir un programa que imprima cada número de la lista usando un bucle `for`.\n",
    "   - **Actividad 1.2**: Usar un bucle para calcular la suma de los números de la lista."
   ]
  },
  {
   "cell_type": "markdown",
   "metadata": {},
   "source": [
    "**Actividad 1.1**\n"
   ]
  },
  {
   "cell_type": "code",
   "execution_count": 21,
   "metadata": {},
   "outputs": [
    {
     "name": "stdout",
     "output_type": "stream",
     "text": [
      "1\n",
      "2\n",
      "3\n",
      "4\n",
      "5\n"
     ]
    }
   ],
   "source": [
    "mi_lista = [1, 2, 3, 4, 5]# Creamos la lista\n",
    "\n",
    "for num in mi_lista:  # Recorremos la lista\n",
    "    print(num)  # Imprimimos cada elemento de la lista"
   ]
  },
  {
   "cell_type": "markdown",
   "metadata": {},
   "source": [
    "**Actividad 1.2**\n"
   ]
  },
  {
   "cell_type": "code",
   "execution_count": null,
   "metadata": {},
   "outputs": [
    {
     "name": "stdout",
     "output_type": "stream",
     "text": [
      "15\n"
     ]
    }
   ],
   "source": [
    "mi_lista = [1, 2, 3, 4, 5]\n",
    "\n",
    "suma = 0\n",
    "\n",
    "for num in mi_lista:# Recorremos la lista\n",
    "    suma += num # Sumamos los elementos de la lista\n",
    "    \n",
    "print(suma)  #  Imprimimos el resultado\n",
    "   \n"
   ]
  },
  {
   "cell_type": "markdown",
   "metadata": {},
   "source": [
    "### 6. **Funciones**\n",
    "\n",
    "   - **Actividad 1.1**: Escribir una función llamada `saludo` que reciba un nombre como parámetro y devuelva un saludo personalizado.\n",
    "   - **Actividad 1.2**: Crear una función que reciba dos números y devuelva su suma, resta, multiplicación y división."
   ]
  },
  {
   "cell_type": "markdown",
   "metadata": {},
   "source": [
    "**Actvidad 1.1**"
   ]
  },
  {
   "cell_type": "code",
   "execution_count": null,
   "metadata": {},
   "outputs": [
    {
     "name": "stdout",
     "output_type": "stream",
     "text": [
      "¡Hola, Luacas!\n"
     ]
    }
   ],
   "source": [
    "def saludo():  # Se define la funcion con def\n",
    "    nombre = input(\"Ingrese su nombre: \")  # Pedimos el nombre atraves del input\n",
    "    return f\"¡Hola, {nombre}!\" # Devuelve el saludo con el nombre\n",
    "\n",
    "\n",
    "print(saludo()) # imprimimos el saludo con el nombre ingresado por el usuario\n"
   ]
  },
  {
   "cell_type": "markdown",
   "metadata": {},
   "source": [
    "**Actividad 1.2**"
   ]
  },
  {
   "cell_type": "code",
   "execution_count": null,
   "metadata": {},
   "outputs": [
    {
     "name": "stdout",
     "output_type": "stream",
     "text": [
      "Suma: 8\n",
      "Resta: 0\n",
      "Multiplicación: 16\n",
      "División: 1.0\n"
     ]
    }
   ],
   "source": [
    "def operaciones(): # definimos la funcion\n",
    "    num1 = int(input(\"Ingrese un número: \"))  # Pedimos lus números al usuario\n",
    "    num2 = int(input(\"Ingrese el siguiente número: \"))\n",
    "# Se hacen las operaciones\n",
    "    suma = num1 + num2\n",
    "    resta = num1 - num2\n",
    "    multiplicacion = num1 * num2\n",
    "    division = num1 / num2 if num2 != 0 else \"Error: No se puede dividir por cero\"\n",
    "# Devuelve los 4 resultados\n",
    "    return suma, resta, multiplicacion, division\n",
    "\n",
    "# Llamada a la función y mostrar resultados\n",
    "resultado = operaciones()\n",
    "print(f\"Suma: {resultado[0]}\")\n",
    "print(f\"Resta: {resultado[1]}\")\n",
    "print(f\"Multiplicación: {resultado[2]}\")\n",
    "print(f\"División: {resultado[3]}\")\n"
   ]
  },
  {
   "cell_type": "markdown",
   "metadata": {},
   "source": [
    "### 7. **Manejo de cadenas de texto**\n",
    "\n",
    "   - **Actividad 1.1**: Escribir un programa que pida al usuario su nombre y lo imprima en mayúsculas y en minúsculas.\n",
    "   - **Actividad 1.2**: Hacer que el programa imprima la longitud del nombre ingresado (no tener en cuenta los espacios en blanco)."
   ]
  },
  {
   "cell_type": "markdown",
   "metadata": {},
   "source": [
    "**Actividad 1.1**"
   ]
  },
  {
   "cell_type": "code",
   "execution_count": null,
   "metadata": {},
   "outputs": [
    {
     "name": "stdout",
     "output_type": "stream",
     "text": [
      "LUCAS\n",
      "lucas\n"
     ]
    }
   ],
   "source": [
    "nombre_usuario = input(\"Ingrese su nombre: \")  # Pedimos el nombre al usuario con el input\n",
    "\n",
    "# Convertimos el texto a mayúsculas con upper() y lo imprimimos\n",
    "print(f\"{nombre_usuario.upper()}\")\n",
    "# Convertimos el texto en minúsculas con lower() y lo imprimimos\n",
    "print(f\"{nombre_usuario.lower()}\")\n"
   ]
  },
  {
   "cell_type": "markdown",
   "metadata": {},
   "source": [
    "**Actividad 1.2**"
   ]
  },
  {
   "cell_type": "code",
   "execution_count": null,
   "metadata": {},
   "outputs": [
    {
     "name": "stdout",
     "output_type": "stream",
     "text": [
      "5\n"
     ]
    }
   ],
   "source": [
    "nombre_usuario = input(\"Ingrese su nombre: \")  # Pedimos el nombre al usuario con el input\n",
    " # Creamos una variable para almacenar el nombre sin espacios con replace\n",
    "quitar_espacio = nombre_usuario.replace(\" \", \"\")  # Reemplazamos los espacios en blanco por nada\n",
    "\n",
    "# calculamos la longitud con len\n",
    "longitud = len(quitar_espacio)\n",
    "\n",
    "# imprimimos la longitud\n",
    "print(f\"{longitud}\")"
   ]
  },
  {
   "cell_type": "markdown",
   "metadata": {},
   "source": [
    "### 8. **Diccionarios**\n",
    "\n",
    "   - **Actividad1.1**: Crear un diccionario que contenga los nombres de tres personas como claves y sus edades como valores. El programa debe imprimir la edad de cada persona.\n",
    "   - **Actividad1.2**: Escribir un programa que pregunte al usuario un nombre, luego su edad y los agregue al diccionario."
   ]
  },
  {
   "cell_type": "markdown",
   "metadata": {},
   "source": [
    "**Actividad 1.1**"
   ]
  },
  {
   "cell_type": "code",
   "execution_count": 4,
   "metadata": {},
   "outputs": [
    {
     "name": "stdout",
     "output_type": "stream",
     "text": [
      " 19\n",
      " 20\n",
      " 21\n"
     ]
    }
   ],
   "source": [
    "diccionario = { #Se crea un diccionario\n",
    "\n",
    "\"Lucas\": 19,\n",
    "\"Nahuel\": 20,\n",
    "\"Felix\": 21\n",
    "\n",
    "\n",
    "}\n",
    "\n",
    "for nombre, edad in diccionario.items(): # Se recorre el diccionario con un bucle for y se imprime la edad\n",
    "    print(f\" {edad}\")\n"
   ]
  },
  {
   "cell_type": "markdown",
   "metadata": {},
   "source": [
    "**Actividad 1.2**"
   ]
  },
  {
   "cell_type": "code",
   "execution_count": null,
   "metadata": {},
   "outputs": [],
   "source": [
    "diccionario = {}\n",
    "\n",
    "nombre = input(\"Ingrese su nombre: \")  # Pedimos el nombre al usuario con el input\n",
    "edad = int(input(\"Ingrese su edad: \"))  # Pedimos la edad al usuario con el input\n",
    "\n",
    "diccionario[nombre] = edad  # Agregamos el nombre y la edad al diccionario\n"
   ]
  },
  {
   "cell_type": "markdown",
   "metadata": {},
   "source": [
    "### 9. **Números aleatorios**\n",
    "\n",
    "   - **Actividad 1.1**: Escribir un programa que genere 5 números aleatorios entre 1 y 100, lo imprima por consola y diga si es mayor o menor a 50.\n",
    "   - **Actividad 1.2**: Sumar los 5 números generados aleatoriamente y en caso de que el resultado sea mayor a 100, mostrar el valor antes de ser mayor a 100 y cuantos números se sumaron para llegar a dicho valor."
   ]
  },
  {
   "cell_type": "markdown",
   "metadata": {},
   "source": [
    "**Actividad 1.1**"
   ]
  },
  {
   "cell_type": "code",
   "execution_count": 11,
   "metadata": {},
   "outputs": [
    {
     "name": "stdout",
     "output_type": "stream",
     "text": [
      "El número generado es 28, es menor o igual a 50.\n",
      "El número generado es 27, es menor o igual a 50.\n",
      "El número generado es 68, es mayor a 50.\n",
      "El número generado es 44, es menor o igual a 50.\n",
      "El número generado es 77, es mayor a 50.\n"
     ]
    }
   ],
   "source": [
    "import random  # Importamos la librería para generar números aleatorios\n",
    "\n",
    "# Generamos 5 números aleatorios y evaluamos si son mayores o menores a 50\n",
    "for _ in range(5):\n",
    "    numero = random.randint(1, 100)  # Genera un número entre 1 y 100\n",
    "    comparacion = \"mayor\" if numero > 50 else \"menor o igual\"  # Evalúa la condición\n",
    "    print(f\"El número generado es {numero}, es {comparacion} a 50.\")\n"
   ]
  },
  {
   "cell_type": "markdown",
   "metadata": {},
   "source": [
    "**Actividad 1.2**\n"
   ]
  },
  {
   "cell_type": "code",
   "execution_count": 14,
   "metadata": {},
   "outputs": [
    {
     "name": "stdout",
     "output_type": "stream",
     "text": [
      "Números generados: [56, 42, 2, 26, 29]\n",
      "Suma total: 155\n",
      "Suma antes de superar 100: 100, con 3 números sumados.\n"
     ]
    }
   ],
   "source": [
    "import random  # Importamos la librería para generar números aleatorios\n",
    "\n",
    "suma = 0  # Inicializamos la suma en 0\n",
    "numeros = []  # Lista para almacenar los números generados\n",
    "suma_anterior = 0  # Guardará el último valor antes de superar 100\n",
    "cantidad_numeros = 0  # Contará cuántos números se sumaron antes de superar 100\n",
    "\n",
    "for i in range(5):\n",
    "    numero = random.randint(1, 100)  # Genera un número aleatorio entre 1 y 100\n",
    "    suma += numero  # Suma el número a la suma total\n",
    "    numeros.append(numero)  # Guarda el número en la lista\n",
    "\n",
    "    if suma > 100 and suma_anterior == 0:\n",
    "        suma_anterior = suma - numero  # Guarda el valor antes de superar 100\n",
    "        cantidad_numeros = i  # Guarda cuántos números se sumaron hasta ese momento\n",
    "\n",
    "print(f\"Números generados: {numeros}\")\n",
    "print(f\"Suma total: {suma}\")\n",
    "\n",
    "# Si se superó 100, mostramos el mensaje\n",
    "if suma_anterior > 0:\n",
    "    print(f\"Suma antes de superar 100: {suma_anterior}, con {cantidad_numeros} números sumados.\")\n"
   ]
  },
  {
   "cell_type": "markdown",
   "metadata": {},
   "source": [
    "### 10. **Proyecto Final: Calculadora**\n",
    "\n",
    "   - **Actividad 1.1**: Los estudiantes deben crear una calculadora básica que permita realizar operaciones de suma, resta, multiplicación y división con entradas del usuario. El programa debe pedir al usuario que elija la operación y luego introducir 2 números para realizar el cálculo.\n",
    "   - **Actividad 1.2**: Implementar una opción para que el usuario pueda continuar haciendo cálculos o salir del programa."
   ]
  },
  {
   "cell_type": "markdown",
   "metadata": {},
   "source": [
    "**Actividad 1.1**"
   ]
  },
  {
   "cell_type": "code",
   "execution_count": 18,
   "metadata": {},
   "outputs": [
    {
     "name": "stdout",
     "output_type": "stream",
     "text": [
      "Seleccione la operación que desea realizar:\n",
      "1. Suma\n",
      "2. Resta\n",
      "3. Multiplicación\n",
      "4. División\n",
      "El resultado de la multiplicación es: 161\n"
     ]
    }
   ],
   "source": [
    "# Funciones para cada operación\n",
    "def suma(a, b):\n",
    "    return a + b\n",
    "\n",
    "def resta(a, b):\n",
    "    return a - b\n",
    "\n",
    "def multiplicacion(a, b):\n",
    "    return a * b\n",
    "\n",
    "def division(a, b):\n",
    "    if b == 0:\n",
    "        return \"Error: No se puede dividir entre 0.\"\n",
    "    return a / b\n",
    "\n",
    "# Menú para que el usuario elija la operación\n",
    "print(\"Seleccione la operación que desea realizar:\")\n",
    "print(\"1. Suma\")\n",
    "print(\"2. Resta\")\n",
    "print(\"3. Multiplicación\")\n",
    "print(\"4. División\")\n",
    "\n",
    "# Solicitar la elección de la operación\n",
    "opcion = input(\"Ingrese el número de la operación: \")\n",
    "\n",
    "# Solicitar los dos números\n",
    "num1 = int(input(\"Ingrese el primer número: \"))\n",
    "num2 = int(input(\"Ingrese el segundo número: \"))\n",
    "\n",
    "# Realizar el cálculo basado en la operación seleccionada\n",
    "if opcion == '1':\n",
    "    print(f\"El resultado de la suma es: {suma(num1, num2)}\")\n",
    "elif opcion == '2':\n",
    "    print(f\"El resultado de la resta es: {resta(num1, num2)}\")\n",
    "elif opcion == '3':\n",
    "    print(f\"El resultado de la multiplicación es: {multiplicacion(num1, num2)}\")\n",
    "elif opcion == '4':\n",
    "    print(f\"El resultado de la división es: {division(num1, num2)}\")\n",
    "else:\n",
    "    print(\"Opción inválida. Por favor, elija una operación válida.\")\n"
   ]
  },
  {
   "cell_type": "markdown",
   "metadata": {},
   "source": [
    "**Actividad 1.2**"
   ]
  },
  {
   "cell_type": "code",
   "execution_count": 19,
   "metadata": {},
   "outputs": [
    {
     "name": "stdout",
     "output_type": "stream",
     "text": [
      "\n",
      "Seleccione la operación que desea realizar:\n",
      "1. Suma\n",
      "2. Resta\n",
      "3. Multiplicación\n",
      "4. División\n",
      "El resultado de la suma es: 4\n",
      "Se cerro la calculadora\n"
     ]
    }
   ],
   "source": [
    "# Funciones para cada operación\n",
    "def suma(a, b):\n",
    "    return a + b\n",
    "\n",
    "def resta(a, b):\n",
    "    return a - b\n",
    "\n",
    "def multiplicacion(a, b):\n",
    "    return a * b\n",
    "\n",
    "def division(a, b):\n",
    "    if b == 0:\n",
    "        return \"Error: No se puede dividir entre 0.\"\n",
    "    return a / b\n",
    "\n",
    "# Función principal para el cálculo\n",
    "def calculadora():\n",
    "    while True:\n",
    "        # Menú para que el usuario elija la operación\n",
    "        print(\"\\nSeleccione la operación que desea realizar:\")\n",
    "        print(\"1. Suma\")\n",
    "        print(\"2. Resta\")\n",
    "        print(\"3. Multiplicación\")\n",
    "        print(\"4. División\")\n",
    "        \n",
    "        # Solicitar la elección de la operación\n",
    "        opcion = input(\"Ingrese el número de la operación (o 'salir' para terminar): \")\n",
    "\n",
    "        if opcion.lower() == 'salir':  # Si el usuario quiere salir\n",
    "            print(\"Se cerró la calculadora\")\n",
    "            break  # Sale del bucle y termina el programa\n",
    "        \n",
    "        # Solicitar los dos números si la opción es válida\n",
    "        if opcion in ['1', '2', '3', '4']:\n",
    "            num1 = int(input(\"Ingrese el primer número: \"))\n",
    "            num2 = int(input(\"Ingrese el segundo número: \"))\n",
    "        \n",
    "            # Realizar el cálculo basado en la operación seleccionada\n",
    "            if opcion == '1':\n",
    "                print(f\"El resultado de la suma es: {suma(num1, num2)}\")\n",
    "            elif opcion == '2':\n",
    "                print(f\"El resultado de la resta es: {resta(num1, num2)}\")\n",
    "            elif opcion == '3':\n",
    "                print(f\"El resultado de la multiplicación es: {multiplicacion(num1, num2)}\")\n",
    "            elif opcion == '4':\n",
    "                print(f\"El resultado de la división es: {division(num1, num2)}\")\n",
    "        else:\n",
    "            print(\"Opción inválida. Por favor, elija una operación válida.\")\n",
    "        \n",
    "        # Preguntar si el usuario quiere continuar o salir\n",
    "        continuar = input(\"¿Quieres hacer otro cálculo? (sí/no): \").lower()\n",
    "        if continuar != 'sí':\n",
    "            print(\"Se cerro la calculadora\")\n",
    "            break  # Si el usuario no quiere continuar, sale del programa\n",
    "\n",
    "# Llamamos a la función principal para iniciar el programa\n",
    "calculadora()\n"
   ]
  },
  {
   "cell_type": "markdown",
   "metadata": {},
   "source": [
    "### EXTRA. **Juegos Simples (Adivina el número)**\n",
    "\n",
    "   - **Actividad 1.1**: Escribir un juego donde el programa elija un número aleatorio entre 1 y 100 y el usuario tenga que adivinarlo. El programa debe dar pistas si el número es mayor o menor.\n",
    "   - **Actividad 1.2**: Limitar el número de intentos y mostrar un mensaje de éxito o fracaso al final."
   ]
  }
 ],
 "metadata": {
  "kernelspec": {
   "display_name": "Python 3",
   "language": "python",
   "name": "python3"
  },
  "language_info": {
   "codemirror_mode": {
    "name": "ipython",
    "version": 3
   },
   "file_extension": ".py",
   "mimetype": "text/x-python",
   "name": "python",
   "nbconvert_exporter": "python",
   "pygments_lexer": "ipython3",
   "version": "3.12.9"
  }
 },
 "nbformat": 4,
 "nbformat_minor": 2
}
